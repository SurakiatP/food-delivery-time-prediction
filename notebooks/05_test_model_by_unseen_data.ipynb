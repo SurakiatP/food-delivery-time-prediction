{
 "cells": [
  {
   "cell_type": "markdown",
   "metadata": {},
   "source": [
    "# 05_test_model_by_unseen_data.ipynb\n"
   ]
  },
  {
   "cell_type": "code",
   "execution_count": 7,
   "metadata": {},
   "outputs": [],
   "source": [
    "import pandas as pd\n",
    "import numpy as np\n",
    "import joblib\n",
    "from geopy.distance import geodesic"
   ]
  },
  {
   "cell_type": "markdown",
   "metadata": {},
   "source": [
    "# Load trained pipeline model\n"
   ]
  },
  {
   "cell_type": "code",
   "execution_count": 8,
   "metadata": {},
   "outputs": [],
   "source": [
    "model = joblib.load('../models/best_model.pkl')"
   ]
  },
  {
   "cell_type": "markdown",
   "metadata": {},
   "source": [
    "# Define mappings (must match training-time encodings)\n"
   ]
  },
  {
   "cell_type": "code",
   "execution_count": 9,
   "metadata": {},
   "outputs": [],
   "source": [
    "type_of_order_map = {'Buffet': 0, 'Drinks': 1, 'Meal': 2, 'Snack': 3}\n",
    "type_of_vehicle_map = {'bicycle': 0, 'electric_scooter': 1, 'motorcycle': 2, 'scooter': 3}\n",
    "\n",
    "def prepare_input(raw_dict):\n",
    "    df = pd.DataFrame([raw_dict])\n",
    "\n",
    "    # Calculate distance\n",
    "    origin = (raw_dict['Restaurant_latitude'], raw_dict['Restaurant_longitude'])\n",
    "    destination = (raw_dict['Delivery_location_latitude'], raw_dict['Delivery_location_longitude'])\n",
    "    distance_km = geodesic(origin, destination).km\n",
    "    df['distance_km'] = distance_km\n",
    "\n",
    "    # Feature engineering\n",
    "    df['log_distance'] = np.log(distance_km + 1e-5)\n",
    "    df['distance_x_rating'] = distance_km * raw_dict['Delivery_person_Ratings']\n",
    "    df['age_x_rating'] = raw_dict['Delivery_person_Age'] * raw_dict['Delivery_person_Ratings']\n",
    "    df['speed_estimate'] = distance_km / 0.5  # simple rule\n",
    "\n",
    "    # Encode categorical features\n",
    "    df['Type_of_order_encoded'] = type_of_order_map[raw_dict['Type_of_order']]\n",
    "    df['Type_of_vehicle_encoded'] = type_of_vehicle_map[raw_dict['Type_of_vehicle']]\n",
    "\n",
    "    # Age group features\n",
    "    df['Age_group_25-34'] = 1 if 25 <= raw_dict['Delivery_person_Age'] < 35 else 0\n",
    "    df['Age_group_35-44'] = 1 if 35 <= raw_dict['Delivery_person_Age'] < 45 else 0\n",
    "    df['Age_group_45-60'] = 1 if 45 <= raw_dict['Delivery_person_Age'] <= 60 else 0\n",
    "\n",
    "    # Drop unused raw columns\n",
    "    return df[model.feature_names_in_]"
   ]
  },
  {
   "cell_type": "markdown",
   "metadata": {},
   "source": [
    "# Example input for prediction\n"
   ]
  },
  {
   "cell_type": "code",
   "execution_count": 10,
   "metadata": {},
   "outputs": [],
   "source": [
    "raw_input = {\n",
    "    'Delivery_person_Age': 30,\n",
    "    'Delivery_person_Ratings': 4.7,\n",
    "    'Restaurant_latitude': 12.9716,\n",
    "    'Restaurant_longitude': 77.5946,\n",
    "    'Delivery_location_latitude': 12.9352,\n",
    "    'Delivery_location_longitude': 77.6141,\n",
    "    'Type_of_order': 'Meal',\n",
    "    'Type_of_vehicle': 'motorcycle'\n",
    "}"
   ]
  },
  {
   "cell_type": "markdown",
   "metadata": {},
   "source": [
    "# Prepare and predict\n"
   ]
  },
  {
   "cell_type": "code",
   "execution_count": 11,
   "metadata": {},
   "outputs": [
    {
     "name": "stdout",
     "output_type": "stream",
     "text": [
      "\n",
      "Input Summary: {'Delivery_person_Age': 30, 'Delivery_person_Ratings': 4.7, 'Restaurant_latitude': 12.9716, 'Restaurant_longitude': 77.5946, 'Delivery_location_latitude': 12.9352, 'Delivery_location_longitude': 77.6141, 'Type_of_order': 'Meal', 'Type_of_vehicle': 'motorcycle'}\n",
      "Predicted Delivery Time: 5.37 minutes\n"
     ]
    }
   ],
   "source": [
    "input_prepared = prepare_input(raw_input)\n",
    "predicted_time = model.predict(input_prepared)\n",
    "\n",
    "print(f\"\\nInput Summary: {raw_input}\")\n",
    "print(f\"Predicted Delivery Time: {predicted_time[0]:.2f} minutes\")"
   ]
  }
 ],
 "metadata": {
  "kernelspec": {
   "display_name": "venv",
   "language": "python",
   "name": "python3"
  },
  "language_info": {
   "codemirror_mode": {
    "name": "ipython",
    "version": 3
   },
   "file_extension": ".py",
   "mimetype": "text/x-python",
   "name": "python",
   "nbconvert_exporter": "python",
   "pygments_lexer": "ipython3",
   "version": "3.12.9"
  }
 },
 "nbformat": 4,
 "nbformat_minor": 2
}
